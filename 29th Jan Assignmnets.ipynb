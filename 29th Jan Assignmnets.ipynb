{
 "cells": [
  {
   "cell_type": "raw",
   "id": "d5ba4d8d-6944-418d-ae75-c1a93117f480",
   "metadata": {},
   "source": [
    "Ans 01.Gudio Van Rossum developed the python programming language."
   ]
  },
  {
   "cell_type": "raw",
   "id": "451e1c6c-dfe7-4289-995e-251f811039f7",
   "metadata": {},
   "source": [
    "Ans 02.Python is an interpreted programming language,supporting object-oriented,structured,and functional programmming."
   ]
  },
  {
   "cell_type": "raw",
   "id": "270f7ce0-9d24-4117-b2e7-a2183052da4a",
   "metadata": {},
   "source": [
    "Ans 03.Yes,Python is a case-sensitive programming language. \n"
   ]
  },
  {
   "cell_type": "raw",
   "id": "774a83e7-e04e-40d4-b49c-b5022972a756",
   "metadata": {},
   "source": [
    "Ans 04. .py,.pyi,.pyc,.pyd,.pyo,.pyw,and .pyz are the correct extensions of the python file."
   ]
  },
  {
   "cell_type": "raw",
   "id": "c74f2bcf-b2d3-47bc-a087-e399f7b4f0da",
   "metadata": {},
   "source": [
    "Ans 05. Python is an interpreted language,which means the source code of a python is converted into byte code that is then executed by the python virtual machine."
   ]
  },
  {
   "cell_type": "raw",
   "id": "448c8e97-ea25-4db1-a0f5-d95053caad3a",
   "metadata": {},
   "source": [
    "Ans 06. A module, function body,class definition are the few blocks of code used to define in python language."
   ]
  },
  {
   "cell_type": "raw",
   "id": "5cefa501-f8d0-49f1-b5bf-4af59aa1b158",
   "metadata": {},
   "source": [
    "Ans 07. # charatcter is used before  any single line of  comments in python."
   ]
  },
  {
   "cell_type": "raw",
   "id": "4f53f83d-0fdb-4660-a5d5-7f1f5a57e28b",
   "metadata": {},
   "source": [
    "Ans 08. The function sys. version can help us to find the version of python that we are currnetly working on."
   ]
  },
  {
   "cell_type": "raw",
   "id": "7a39a019-8bc0-42bd-ad07-70fb36122e05",
   "metadata": {},
   "source": [
    "Ans 09.Lambda function are used to create anonymous functions at runtime."
   ]
  },
  {
   "cell_type": "raw",
   "id": "04bffb3f-5d82-4ef2-ae8f-a345dfb77dfc",
   "metadata": {},
   "source": [
    "Ans 10.Developed in 2008,pip(an acronym of \"Pip Install Packages\") is today the standard toool for installing Python packages and their dependencies in a secure manner. "
   ]
  },
  {
   "cell_type": "raw",
   "id": "7d5e0ec4-5581-4dcd-80a3-b663df0a63bd",
   "metadata": {},
   "source": [
    "Ans 11.input(),len(),list(),range(),slice() are the few built-in functions in python."
   ]
  },
  {
   "cell_type": "raw",
   "id": "d159076b-8c70-498e-91bc-5e93a9b16d37",
   "metadata": {},
   "source": [
    "Ans 12. A length of 79 characaters are possible while creating an identifier in python."
   ]
  },
  {
   "cell_type": "raw",
   "id": "9056a0a1-3025-4663-81c6-6d40e1d6ed58",
   "metadata": {},
   "source": [
    "Ans 13.Advantages of Python are given below:-\n",
    "(1)Simple to Use and Understand\n",
    "(2)Free and Open-Source\n",
    "(3)Producitivity has increased\n",
    "(4)Interpreted Language\n",
    "(5)Extensive Library\n",
    "(6)Dynamically Typed\n",
    "(7)Portability\n",
    "(8)Supportive Community"
   ]
  },
  {
   "cell_type": "raw",
   "id": "7553c7bd-4ebd-49ce-b42f-01c78e487796",
   "metadata": {},
   "source": [
    "Ans 14. Memory Management in python involves a private heap containing all python objects and data structures.The management of this private heap is ensured internally by the Python memory manager."
   ]
  },
  {
   "cell_type": "raw",
   "id": "a7602f2c-be36-4074-bba5-7e1ce831cb95",
   "metadata": {},
   "source": [
    "Ans 15.To download python,you need to visit www.python.org,which is the official website.\n",
    "Click on the Downloads tab and then select the operating system you are using.\n",
    "\n",
    "\n",
    "\n",
    "\n",
    "\n",
    "The complete path of python.exe can be added by:\n",
    "(1)Right-Clicking this pc and going to properties.\n",
    "(2)Clicking on the advanced system settings in the menu on the left.\n",
    "(3)Clicking on the environment variables button on the bottom right.\n",
    "(4)In the system variables section,selecting the path variable and clicking on Edit.The next screen will show all the directories that are currently a part of the path variable.\n",
    "(5)Clicking on New and entering Python's install directory.\n"
   ]
  },
  {
   "cell_type": "raw",
   "id": "f78e1192-7979-4bf7-8540-a08616fb4ce1",
   "metadata": {},
   "source": [
    "Ans 16.Yes,Identation is mandatory in python to define the blocks of statements."
   ]
  }
 ],
 "metadata": {
  "kernelspec": {
   "display_name": "Python 3 (ipykernel)",
   "language": "python",
   "name": "python3"
  },
  "language_info": {
   "codemirror_mode": {
    "name": "ipython",
    "version": 3
   },
   "file_extension": ".py",
   "mimetype": "text/x-python",
   "name": "python",
   "nbconvert_exporter": "python",
   "pygments_lexer": "ipython3",
   "version": "3.10.8"
  }
 },
 "nbformat": 4,
 "nbformat_minor": 5
}
