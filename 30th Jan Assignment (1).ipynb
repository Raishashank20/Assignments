{
 "cells": [
  {
   "cell_type": "code",
   "execution_count": 7,
   "id": "16bcccfe-bfde-4c5f-8275-ee052044d44c",
   "metadata": {},
   "outputs": [
    {
     "name": "stdin",
     "output_type": "stream",
     "text": [
      "Enter your percentage 90\n"
     ]
    },
    {
     "name": "stdout",
     "output_type": "stream",
     "text": [
      "Grade B\n"
     ]
    }
   ],
   "source": [
    "Ans(01) percentage = int(input(\"Enter your percentage\"))\n",
    "if (percentage > 90):\n",
    "    print(\"Grade A\")\n",
    "elif (percentage >80 and percentage <=90):\n",
    "    print(\"Grade B\")\n",
    "elif (percentage >=60 and percentage <=80):\n",
    "    print(\"Grade C\")\n",
    "else :\n",
    "    print(\"Grade D\")"
   ]
  },
  {
   "cell_type": "code",
   "execution_count": 12,
   "id": "c7c85554-4d67-4136-b447-c410c6f5b012",
   "metadata": {},
   "outputs": [
    {
     "name": "stdin",
     "output_type": "stream",
     "text": [
      "Enter the cost price of bike 100001\n"
     ]
    },
    {
     "name": "stdout",
     "output_type": "stream",
     "text": [
      "Tax = 15%\n"
     ]
    }
   ],
   "source": [
    "Ans(02) CP = int(input(\"Enter the cost price of bike\"))\n",
    "\n",
    "if (CP>100000):\n",
    "    print(\"Tax = 15%\")\n",
    "elif(CP>50000 and CP<= 100000):\n",
    "     print(\"Tax = 10%\")\n",
    "elif(CP <= 50000):\n",
    "     print(\"Tax = 5%\")\n",
    "          \n",
    "         "
   ]
  },
  {
   "cell_type": "code",
   "execution_count": 3,
   "id": "8e85030f-52f7-44c3-9866-4999f6611a45",
   "metadata": {},
   "outputs": [
    {
     "name": "stdin",
     "output_type": "stream",
     "text": [
      "Enter the city name Delhi\n"
     ]
    },
    {
     "name": "stdout",
     "output_type": "stream",
     "text": [
      "Red Fort\n"
     ]
    }
   ],
   "source": [
    "Ans (03) city = input(\"Enter the city name\")\n",
    "\n",
    "if (city == \"Delhi\"):\n",
    "    print(\"Red Fort\")\n",
    "elif(city == \"Agra\"):\n",
    "    print(\"Taj Mahal\")\n",
    "elif(city == \"Jaipur\"): \n",
    "    print(\"Jalmahal\")"
   ]
  },
  {
   "cell_type": "code",
   "execution_count": 10,
   "id": "bca89a4c-6ea4-4bd0-b296-31059f5d6100",
   "metadata": {},
   "outputs": [
    {
     "name": "stdin",
     "output_type": "stream",
     "text": [
      "Enter any number 11\n"
     ]
    },
    {
     "name": "stdout",
     "output_type": "stream",
     "text": [
      "error\n"
     ]
    }
   ],
   "source": [
    "Ans(04)num = int(input(\"Enter any number\"))\n",
    "          \n",
    "if (num<=10):\n",
    "    print(num/3)  \n",
    "else:\n",
    "    print(\"error\")"
   ]
  },
  {
   "cell_type": "code",
   "execution_count": 9,
   "id": "ded4585e-a4a2-4039-a53d-5d2346d153e9",
   "metadata": {},
   "outputs": [
    {
     "name": "stdin",
     "output_type": "stream",
     "text": [
      "print any number 1\n"
     ]
    },
    {
     "name": "stdout",
     "output_type": "stream",
     "text": [
      "1\n",
      "2\n",
      "3\n",
      "4\n",
      "5\n",
      "6\n",
      "7\n",
      "8\n",
      "9\n",
      "10\n"
     ]
    }
   ],
   "source": [
    "Ans (04)##Python while loop is used to run a block code until a certain condition is met. Here,A while loop evaluates the condition.If the condition evaluates to True,the code inside the while loop is executed.\n",
    "\n",
    "num = int(input(\"print any number\"))\n",
    "\n",
    "while num <=10:\n",
    "    print(num)\n",
    "    num +=1\n",
    "          "
   ]
  },
  {
   "cell_type": "code",
   "execution_count": 10,
   "id": "668a54a3-0ccb-4c51-9168-376794ba476f",
   "metadata": {},
   "outputs": [
    {
     "name": "stdout",
     "output_type": "stream",
     "text": [
      "0 1 2 3 \n",
      "0 2 4 6 \n",
      "0 3 6 9 \n",
      "0 4 8 12 \n"
     ]
    }
   ],
   "source": [
    "Ans (05)i = 1\n",
    "while i <= 4:\n",
    "    j= 0\n",
    "    while j <=3 :\n",
    "        print(i*j, end = \" \")\n",
    "        j +=1\n",
    "    print()  \n",
    "    i +=1"
   ]
  },
  {
   "cell_type": "raw",
   "id": "73e1c399-fbd8-44f1-a2f2-105ee703cad1",
   "metadata": {},
   "source": [
    "Ans (06)num = int(input(\"Enter any number\"))\n",
    "\n",
    "while num <=10 and num >=0 :\n",
    "    print(num)\n",
    "    num = num-1"
   ]
  },
  {
   "cell_type": "code",
   "execution_count": 12,
   "id": "7d3f93d9-1708-4972-a527-47494d578358",
   "metadata": {},
   "outputs": [
    {
     "name": "stdin",
     "output_type": "stream",
     "text": [
      "Enter any number 10\n"
     ]
    },
    {
     "name": "stdout",
     "output_type": "stream",
     "text": [
      "10\n",
      "9\n",
      "8\n",
      "7\n",
      "6\n",
      "5\n",
      "4\n",
      "3\n",
      "2\n",
      "1\n",
      "0\n"
     ]
    }
   ],
   "source": [
    "Ans (07)num = int(input(\"Enter any number\"))\n",
    "\n",
    "while num <=10 and num >=0 :\n",
    "    print(num)\n",
    "    num = num-1"
   ]
  },
  {
   "cell_type": "code",
   "execution_count": null,
   "id": "ed4bca99-6126-49a5-8437-aefffe4c0604",
   "metadata": {},
   "outputs": [],
   "source": []
  },
  {
   "cell_type": "code",
   "execution_count": null,
   "id": "a104f087-7025-4ee3-980f-f68303464bb5",
   "metadata": {},
   "outputs": [],
   "source": []
  }
 ],
 "metadata": {
  "kernelspec": {
   "display_name": "Python 3 (ipykernel)",
   "language": "python",
   "name": "python3"
  },
  "language_info": {
   "codemirror_mode": {
    "name": "ipython",
    "version": 3
   },
   "file_extension": ".py",
   "mimetype": "text/x-python",
   "name": "python",
   "nbconvert_exporter": "python",
   "pygments_lexer": "ipython3",
   "version": "3.10.8"
  }
 },
 "nbformat": 4,
 "nbformat_minor": 5
}
