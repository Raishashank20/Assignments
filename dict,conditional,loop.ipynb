{
 "cells": [
  {
   "cell_type": "code",
   "execution_count": 46,
   "id": "baaf7554-1b7c-497a-bc7b-2fbf00f60db8",
   "metadata": {},
   "outputs": [],
   "source": [
    "d = {}\n"
   ]
  },
  {
   "cell_type": "code",
   "execution_count": 47,
   "id": "23efd4a0-734b-4402-9a9d-b2b66735583d",
   "metadata": {},
   "outputs": [
    {
     "data": {
      "text/plain": [
       "dict"
      ]
     },
     "execution_count": 47,
     "metadata": {},
     "output_type": "execute_result"
    }
   ],
   "source": [
    "type(d)"
   ]
  },
  {
   "cell_type": "code",
   "execution_count": 48,
   "id": "cbd29641-922f-4078-bfe5-344bf4014944",
   "metadata": {},
   "outputs": [],
   "source": [
    "d1 = {'key' : \"sudh\"}"
   ]
  },
  {
   "cell_type": "code",
   "execution_count": 49,
   "id": "78bd51d9-b01a-4fdc-ad1b-c1f47069e2b0",
   "metadata": {},
   "outputs": [
    {
     "data": {
      "text/plain": [
       "{'key': 'sudh'}"
      ]
     },
     "execution_count": 49,
     "metadata": {},
     "output_type": "execute_result"
    }
   ],
   "source": [
    "d1"
   ]
  },
  {
   "cell_type": "code",
   "execution_count": 50,
   "id": "fb39ba1c-6b5e-49d2-9827-849138dbb4c7",
   "metadata": {},
   "outputs": [],
   "source": [
    "d2 = {'name' : \"sudhanshu\" , \"email\" : \"ss@gmail.com\", \"number\" : 334534}"
   ]
  },
  {
   "cell_type": "code",
   "execution_count": 51,
   "id": "08da3e59-6c29-43f4-b620-fe4fb21aab51",
   "metadata": {},
   "outputs": [
    {
     "data": {
      "text/plain": [
       "{'name': 'sudhanshu', 'email': 'ss@gmail.com', 'number': 334534}"
      ]
     },
     "execution_count": 51,
     "metadata": {},
     "output_type": "execute_result"
    }
   ],
   "source": [
    "d2"
   ]
  },
  {
   "cell_type": "code",
   "execution_count": 52,
   "id": "d13d14c8-7681-4227-a106-1d260c5a6c92",
   "metadata": {},
   "outputs": [],
   "source": [
    "d3 = {234 : \"sudh\", '_ wer': \"kumar\" , True : 24234}"
   ]
  },
  {
   "cell_type": "code",
   "execution_count": 53,
   "id": "f68806b4-b909-471d-a286-0b3643397376",
   "metadata": {},
   "outputs": [
    {
     "data": {
      "text/plain": [
       "{234: 'sudh', '_ wer': 'kumar', True: 24234}"
      ]
     },
     "execution_count": 53,
     "metadata": {},
     "output_type": "execute_result"
    }
   ],
   "source": [
    "d3"
   ]
  },
  {
   "cell_type": "code",
   "execution_count": 54,
   "id": "631741e3-79fd-4966-9044-292ac8bfb67b",
   "metadata": {},
   "outputs": [
    {
     "data": {
      "text/plain": [
       "'sudh'"
      ]
     },
     "execution_count": 54,
     "metadata": {},
     "output_type": "execute_result"
    }
   ],
   "source": [
    "d3[234]"
   ]
  },
  {
   "cell_type": "code",
   "execution_count": 55,
   "id": "c685c8fd-81f8-46ac-8306-ec7c28bc5c1b",
   "metadata": {},
   "outputs": [
    {
     "data": {
      "text/plain": [
       "24234"
      ]
     },
     "execution_count": 55,
     "metadata": {},
     "output_type": "execute_result"
    }
   ],
   "source": [
    "d3[True]"
   ]
  },
  {
   "cell_type": "code",
   "execution_count": 56,
   "id": "defb1b1f-a211-4639-967f-0673fdb6065f",
   "metadata": {},
   "outputs": [
    {
     "data": {
      "text/plain": [
       "24234"
      ]
     },
     "execution_count": 56,
     "metadata": {},
     "output_type": "execute_result"
    }
   ],
   "source": [
    "d3[1]"
   ]
  },
  {
   "cell_type": "code",
   "execution_count": 57,
   "id": "f6855081-a8e6-4222-9f5b-24fa95928ecb",
   "metadata": {},
   "outputs": [],
   "source": [
    "d4  = {'name' : \"sudh\" , 'mail_id' : \"ss@gmail.com\" ,\"name\" : \"sudhanshu\"}\n",
    "    "
   ]
  },
  {
   "cell_type": "code",
   "execution_count": 58,
   "id": "a1c7e290-cd77-4485-a3d4-966f2acd16b5",
   "metadata": {},
   "outputs": [
    {
     "data": {
      "text/plain": [
       "'sudhanshu'"
      ]
     },
     "execution_count": 58,
     "metadata": {},
     "output_type": "execute_result"
    }
   ],
   "source": [
    "d4['name']"
   ]
  },
  {
   "cell_type": "code",
   "execution_count": 59,
   "id": "fb7acbf0-0c8f-4015-a8a8-6c78bd669a8a",
   "metadata": {},
   "outputs": [],
   "source": [
    "d5 = { \"company\" : \"pwskills\", \n",
    "      \"course\" : [ \"web dev\" , \"data science\", \"java with dsa system design\"]}"
   ]
  },
  {
   "cell_type": "code",
   "execution_count": 60,
   "id": "80aede6a-1872-45b1-a2b6-50724a04580e",
   "metadata": {},
   "outputs": [
    {
     "data": {
      "text/plain": [
       "['web dev', 'data science', 'java with dsa system design']"
      ]
     },
     "execution_count": 60,
     "metadata": {},
     "output_type": "execute_result"
    }
   ],
   "source": [
    "d5['course']"
   ]
  },
  {
   "cell_type": "code",
   "execution_count": 61,
   "id": "68041fc8-b8c1-4fe4-a232-59882b58b5bb",
   "metadata": {},
   "outputs": [
    {
     "data": {
      "text/plain": [
       "'java with dsa system design'"
      ]
     },
     "execution_count": 61,
     "metadata": {},
     "output_type": "execute_result"
    }
   ],
   "source": [
    "d5['course'][2]"
   ]
  },
  {
   "cell_type": "code",
   "execution_count": 62,
   "id": "c56740f8-f6e5-4218-b11a-8744e2235993",
   "metadata": {},
   "outputs": [],
   "source": [
    "d6 = {\"number\" : [2,34,3,34,34] , \"assignment\" : (1,2,3,4,5,6), \"launch_date\" : {28,12,14}, \"class_time\" : {\"web_dev\" : 8 , \"Data science masters\" : 8, \"java with dsa and system design\" : 7}}"
   ]
  },
  {
   "cell_type": "code",
   "execution_count": 63,
   "id": "2d44632a-5c61-4282-9cb2-cb7820d7c984",
   "metadata": {},
   "outputs": [
    {
     "data": {
      "text/plain": [
       "{'number': [2, 34, 3, 34, 34],\n",
       " 'assignment': (1, 2, 3, 4, 5, 6),\n",
       " 'launch_date': {12, 14, 28},\n",
       " 'class_time': {'web_dev': 8,\n",
       "  'Data science masters': 8,\n",
       "  'java with dsa and system design': 7}}"
      ]
     },
     "execution_count": 63,
     "metadata": {},
     "output_type": "execute_result"
    }
   ],
   "source": [
    "d6"
   ]
  },
  {
   "cell_type": "code",
   "execution_count": 64,
   "id": "3fd93d16-c51d-4c15-806b-a8d2716b4be0",
   "metadata": {},
   "outputs": [
    {
     "data": {
      "text/plain": [
       "7"
      ]
     },
     "execution_count": 64,
     "metadata": {},
     "output_type": "execute_result"
    }
   ],
   "source": [
    "d6['class_time']['java with dsa and system design']"
   ]
  },
  {
   "cell_type": "code",
   "execution_count": 65,
   "id": "4499ff77-ab1b-4b5b-bb97-64f169a3f847",
   "metadata": {},
   "outputs": [],
   "source": [
    "d6['mentor'] = [\"sudhanshu\",\"krish\",\"anurag\"]"
   ]
  },
  {
   "cell_type": "code",
   "execution_count": 66,
   "id": "750cfffd-2e1d-4aad-8631-18b778a104e6",
   "metadata": {},
   "outputs": [
    {
     "data": {
      "text/plain": [
       "{'number': [2, 34, 3, 34, 34],\n",
       " 'assignment': (1, 2, 3, 4, 5, 6),\n",
       " 'launch_date': {12, 14, 28},\n",
       " 'class_time': {'web_dev': 8,\n",
       "  'Data science masters': 8,\n",
       "  'java with dsa and system design': 7},\n",
       " 'mentor': ['sudhanshu', 'krish', 'anurag']}"
      ]
     },
     "execution_count": 66,
     "metadata": {},
     "output_type": "execute_result"
    }
   ],
   "source": [
    "d6"
   ]
  },
  {
   "cell_type": "code",
   "execution_count": 67,
   "id": "30ec31a8-1d52-4f59-bce0-52a53afdb6d8",
   "metadata": {},
   "outputs": [],
   "source": [
    "del d6['number']"
   ]
  },
  {
   "cell_type": "code",
   "execution_count": 68,
   "id": "6377e5e3-5cbd-4354-a732-faf64295504d",
   "metadata": {},
   "outputs": [
    {
     "data": {
      "text/plain": [
       "dict_keys(['assignment', 'launch_date', 'class_time', 'mentor'])"
      ]
     },
     "execution_count": 68,
     "metadata": {},
     "output_type": "execute_result"
    }
   ],
   "source": [
    "d6.keys()"
   ]
  },
  {
   "cell_type": "code",
   "execution_count": 69,
   "id": "d654a003-da48-4e9d-a6d5-bcf499492595",
   "metadata": {},
   "outputs": [
    {
     "data": {
      "text/plain": [
       "[(1, 2, 3, 4, 5, 6),\n",
       " {12, 14, 28},\n",
       " {'web_dev': 8,\n",
       "  'Data science masters': 8,\n",
       "  'java with dsa and system design': 7},\n",
       " ['sudhanshu', 'krish', 'anurag']]"
      ]
     },
     "execution_count": 69,
     "metadata": {},
     "output_type": "execute_result"
    }
   ],
   "source": [
    "list   (d6.values())"
   ]
  },
  {
   "cell_type": "code",
   "execution_count": 70,
   "id": "0800af99-ad8e-45a5-bbf5-a74c6302cba2",
   "metadata": {},
   "outputs": [
    {
     "data": {
      "text/plain": [
       "[('assignment', (1, 2, 3, 4, 5, 6)),\n",
       " ('launch_date', {12, 14, 28}),\n",
       " ('class_time',\n",
       "  {'web_dev': 8,\n",
       "   'Data science masters': 8,\n",
       "   'java with dsa and system design': 7}),\n",
       " ('mentor', ['sudhanshu', 'krish', 'anurag'])]"
      ]
     },
     "execution_count": 70,
     "metadata": {},
     "output_type": "execute_result"
    }
   ],
   "source": [
    "list (d6.items())"
   ]
  },
  {
   "cell_type": "code",
   "execution_count": 73,
   "id": "ca76f5bb-af5d-4660-827b-344c4dfa6d2f",
   "metadata": {},
   "outputs": [
    {
     "ename": "TypeError",
     "evalue": "pop expected at least 1 argument, got 0",
     "output_type": "error",
     "traceback": [
      "\u001b[0;31m---------------------------------------------------------------------------\u001b[0m",
      "\u001b[0;31mTypeError\u001b[0m                                 Traceback (most recent call last)",
      "Cell \u001b[0;32mIn[73], line 1\u001b[0m\n\u001b[0;32m----> 1\u001b[0m \u001b[43md6\u001b[49m\u001b[38;5;241;43m.\u001b[39;49m\u001b[43mpop\u001b[49m\u001b[43m(\u001b[49m\u001b[43m)\u001b[49m\n",
      "\u001b[0;31mTypeError\u001b[0m: pop expected at least 1 argument, got 0"
     ]
    }
   ],
   "source": [
    "d6.pop()"
   ]
  },
  {
   "cell_type": "code",
   "execution_count": 81,
   "id": "a45c643a-3693-4d35-93ce-7bf48c24d884",
   "metadata": {},
   "outputs": [
    {
     "name": "stdin",
     "output_type": "stream",
     "text": [
      "enter your marks -987\n"
     ]
    },
    {
     "name": "stdout",
     "output_type": "stream",
     "text": [
      "you will be a part of A3 batch \n"
     ]
    }
   ],
   "source": [
    "\n",
    "marks = int(input(\"enter your marks\"))\n",
    "if marks >=  80 : \n",
    "    print(\"you will be a part of A0 batch\")\n",
    "elif marks >= 60 and marks < 80 :    \n",
    "    print(\"you will be a part of A1 batch\")\n",
    "elif marks >=40 and marks < 60 :\n",
    "    print(\"you will be a part of A2 batch \")\n",
    "else :\n",
    "    print(\"you will be a part of A3 batch \")"
   ]
  },
  {
   "cell_type": "code",
   "execution_count": 77,
   "id": "30e72041-21cc-49be-990e-d7821e8c3ef7",
   "metadata": {},
   "outputs": [
    {
     "data": {
      "text/plain": [
       "False"
      ]
     },
     "execution_count": 77,
     "metadata": {},
     "output_type": "execute_result"
    }
   ],
   "source": [
    "10 >= 80"
   ]
  },
  {
   "cell_type": "code",
   "execution_count": 95,
   "id": "78c74718-6acc-4956-aa19-a10b9039d9fe",
   "metadata": {},
   "outputs": [
    {
     "name": "stdin",
     "output_type": "stream",
     "text": [
      "enter price 7000\n"
     ]
    },
    {
     "name": "stdout",
     "output_type": "stream",
     "text": [
      "I will not purchase\n",
      "This is too much \n"
     ]
    }
   ],
   "source": [
    "\n",
    "price = int(input(\"enter price\"))\n",
    "if price > 1000:\n",
    "    print(\"I will not purchase\")\n",
    "    if price > 5000 :\n",
    "        print(\"This is too much \")\n",
    "    elif price < 2000 :\n",
    "        print(\"its ok\")\n",
    "    elif price < 1000:\n",
    "        print(\"i will purchase\")\n",
    "    else :\n",
    "            print(\"not intrested\")\n",
    "            print(\"I will not purchase\")\n",
    "            "
   ]
  },
  {
   "cell_type": "code",
   "execution_count": 96,
   "id": "434465a1-1038-4b78-8388-dc7551297f7a",
   "metadata": {},
   "outputs": [],
   "source": [
    "l =  [1,2,3,4,5,6,7,8]\n"
   ]
  },
  {
   "cell_type": "code",
   "execution_count": 101,
   "id": "58d183c7-ba35-4f11-8ac0-2822dd4b9388",
   "metadata": {},
   "outputs": [],
   "source": [
    "l1=[]"
   ]
  },
  {
   "cell_type": "markdown",
   "id": "1df4221f-0106-40da-a2c6-f7a459d42d72",
   "metadata": {},
   "source": [
    "l1=[]"
   ]
  },
  {
   "cell_type": "code",
   "execution_count": 102,
   "id": "1fa396d4-4744-4839-97e4-b714e3b967e6",
   "metadata": {},
   "outputs": [],
   "source": [
    "l1.append(l[0] + 1)"
   ]
  },
  {
   "cell_type": "code",
   "execution_count": 103,
   "id": "6e548c7b-8801-49ed-a417-502111bd6d9d",
   "metadata": {},
   "outputs": [
    {
     "data": {
      "text/plain": [
       "[2]"
      ]
     },
     "execution_count": 103,
     "metadata": {},
     "output_type": "execute_result"
    }
   ],
   "source": [
    "l1\n"
   ]
  },
  {
   "cell_type": "code",
   "execution_count": 110,
   "id": "e8ce386b-9b3f-4196-b7ad-f207546ae71d",
   "metadata": {},
   "outputs": [
    {
     "name": "stdout",
     "output_type": "stream",
     "text": [
      "2\n",
      "3\n",
      "4\n",
      "5\n",
      "6\n",
      "7\n",
      "8\n",
      "9\n"
     ]
    }
   ],
   "source": [
    "l1 = []\n",
    "for i in l :\n",
    "    print(i+1)\n",
    "    l1.append(i+1)"
   ]
  },
  {
   "cell_type": "code",
   "execution_count": 111,
   "id": "6db4290c-2060-4b33-97e5-2c3c7c707e40",
   "metadata": {},
   "outputs": [
    {
     "data": {
      "text/plain": [
       "[2, 3, 4, 5, 6, 7, 8, 9]"
      ]
     },
     "execution_count": 111,
     "metadata": {},
     "output_type": "execute_result"
    }
   ],
   "source": [
    "l1"
   ]
  },
  {
   "cell_type": "code",
   "execution_count": 113,
   "id": "857cea7c-d165-4042-b0fe-53d4d3ead0c8",
   "metadata": {},
   "outputs": [],
   "source": [
    "l = [\"sudh\",\"kumar\",\"pwskills\",\"course\"]"
   ]
  },
  {
   "cell_type": "code",
   "execution_count": 115,
   "id": "c190b314-0d9b-489a-ae03-0fc0709ea0f1",
   "metadata": {},
   "outputs": [
    {
     "name": "stdout",
     "output_type": "stream",
     "text": [
      "sudh\n",
      "kumar\n",
      "pwskills\n",
      "course\n"
     ]
    }
   ],
   "source": [
    "l1 = []\n",
    "for i in l:\n",
    "    print(i)\n",
    "    l1.append(i.upper())\n",
    "    "
   ]
  },
  {
   "cell_type": "code",
   "execution_count": 135,
   "id": "062ccdf3-4115-46e9-9d46-5cecd863cc9e",
   "metadata": {},
   "outputs": [
    {
     "data": {
      "text/plain": [
       "['SUDH', 'KUMAR', 'PWSKILLS', 'COURSE']"
      ]
     },
     "execution_count": 135,
     "metadata": {},
     "output_type": "execute_result"
    }
   ],
   "source": [
    "l1"
   ]
  },
  {
   "cell_type": "code",
   "execution_count": 136,
   "id": "cdf3ffaf-f484-4a6a-aa3d-23717d28451c",
   "metadata": {},
   "outputs": [],
   "source": [
    "l2 = [\"shashank\", \"arjun\"]"
   ]
  },
  {
   "cell_type": "code",
   "execution_count": 137,
   "id": "4c6dc98b-4dc2-4511-a9fd-f5e32d8b323e",
   "metadata": {},
   "outputs": [
    {
     "name": "stdout",
     "output_type": "stream",
     "text": [
      "shashank\n",
      "arjun\n"
     ]
    }
   ],
   "source": [
    "l3 = []\n",
    "for i in l2 :\n",
    "    print(i)\n",
    "    l3.append(i.upper())"
   ]
  },
  {
   "cell_type": "code",
   "execution_count": 151,
   "id": "4ad3da16-bd24-44b2-b635-c0b1b74903ce",
   "metadata": {},
   "outputs": [
    {
     "data": {
      "text/plain": [
       "['SHASHANK', 'ARJUN']"
      ]
     },
     "execution_count": 151,
     "metadata": {},
     "output_type": "execute_result"
    }
   ],
   "source": [
    "l3"
   ]
  },
  {
   "cell_type": "code",
   "execution_count": 152,
   "id": "ecb23c29-80b1-4e68-82c3-1ece5462e07d",
   "metadata": {},
   "outputs": [],
   "source": [
    "l = [1,2,3,4,4,\"sudh\", \"kumar\", 324,34.456, \"abc\"]"
   ]
  },
  {
   "cell_type": "code",
   "execution_count": 153,
   "id": "f8bbd3ca-ed24-4a58-9c40-180afce3f3a0",
   "metadata": {},
   "outputs": [],
   "source": [
    "l1_num = []\n",
    "l2_str = []\n",
    "for i in l :\n",
    "    if  type(i) == int or type(i) == float :\n",
    "          l1_num.append(i)\n",
    "    else:\n",
    "          l2_str.append(i)"
   ]
  },
  {
   "cell_type": "code",
   "execution_count": 154,
   "id": "e9de79e6-dda2-472e-8111-b9ac18679648",
   "metadata": {},
   "outputs": [
    {
     "data": {
      "text/plain": [
       "[1, 2, 3, 4, 4, 324, 34.456]"
      ]
     },
     "execution_count": 154,
     "metadata": {},
     "output_type": "execute_result"
    }
   ],
   "source": [
    "l1_num"
   ]
  },
  {
   "cell_type": "code",
   "execution_count": 155,
   "id": "0f9f6adc-090f-48ff-a269-a10190bf9a52",
   "metadata": {},
   "outputs": [
    {
     "data": {
      "text/plain": [
       "['sudh', 'kumar', 'abc']"
      ]
     },
     "execution_count": 155,
     "metadata": {},
     "output_type": "execute_result"
    }
   ],
   "source": [
    "l2_str\n"
   ]
  },
  {
   "cell_type": "code",
   "execution_count": null,
   "id": "51a81f32-ea40-463e-b0f0-4680849c9af5",
   "metadata": {},
   "outputs": [],
   "source": []
  },
  {
   "cell_type": "code",
   "execution_count": null,
   "id": "d0aadb8c-9833-4a86-9d5f-e986091cae6d",
   "metadata": {},
   "outputs": [],
   "source": []
  },
  {
   "cell_type": "code",
   "execution_count": null,
   "id": "a849a416-e45f-4028-aa35-20da6f21bbc1",
   "metadata": {},
   "outputs": [],
   "source": []
  },
  {
   "cell_type": "code",
   "execution_count": null,
   "id": "eb3a5eed-ec91-4707-b65e-22bc8825b9b6",
   "metadata": {},
   "outputs": [],
   "source": []
  },
  {
   "cell_type": "code",
   "execution_count": null,
   "id": "433bec1a-d4ea-4bd0-a50d-da75f13a1178",
   "metadata": {},
   "outputs": [],
   "source": []
  },
  {
   "cell_type": "code",
   "execution_count": null,
   "id": "e8599069-d022-49ed-900e-a8487e08b919",
   "metadata": {},
   "outputs": [],
   "source": []
  }
 ],
 "metadata": {
  "kernelspec": {
   "display_name": "Python 3 (ipykernel)",
   "language": "python",
   "name": "python3"
  },
  "language_info": {
   "codemirror_mode": {
    "name": "ipython",
    "version": 3
   },
   "file_extension": ".py",
   "mimetype": "text/x-python",
   "name": "python",
   "nbconvert_exporter": "python",
   "pygments_lexer": "ipython3",
   "version": "3.10.8"
  }
 },
 "nbformat": 4,
 "nbformat_minor": 5
}
