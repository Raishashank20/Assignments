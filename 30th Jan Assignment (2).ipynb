{
 "cells": [
  {
   "cell_type": "raw",
   "id": "0a2d86b9-1880-4d3d-9a14-581e8d3e4dc0",
   "metadata": {},
   "source": [
    "Ans(01) percentage = int(input(\"Enter your percentage\"))\n",
    "if (percentage > 90):\n",
    "    print(\"Grade A\")\n",
    "elif (percentage >80 and percentage <=90):\n",
    "    print(\"Grade B\")\n",
    "elif (percentage >=60 and percentage <=80):\n",
    "    print(\"Grade C\")\n",
    "else :\n",
    "    print(\"Grade D\")"
   ]
  },
  {
   "cell_type": "raw",
   "id": "d99dcdc9-db64-47bf-8da8-cec534d5aabe",
   "metadata": {},
   "source": [
    "Ans(02) CP = int(input(\"Enter the cost price of bike\"))\n",
    "\n",
    "if (CP>100000):\n",
    "    print(\"Tax = 15%\")\n",
    "elif(CP>50000 and CP<= 100000):\n",
    "     print(\"Tax = 10%\")\n",
    "elif(CP <= 50000):\n",
    "     print(\"Tax = 5%\")\n",
    "          \n",
    "         "
   ]
  },
  {
   "cell_type": "raw",
   "id": "4397eb39-7236-4cff-9be1-3b07d18ed5bf",
   "metadata": {},
   "source": [
    "Ans (03) city = input(\"Enter the city name\")\n",
    "\n",
    "if (city == \"Delhi\"):\n",
    "    print(\"Red Fort\")\n",
    "elif(city == \"Agra\"):\n",
    "    print(\"Taj Mahal\")\n",
    "elif(city == \"Jaipur\"): \n",
    "    print(\"Jalmahal\")"
   ]
  },
  {
   "cell_type": "raw",
   "id": "085a0227-d80e-4253-ada9-a0c04623a425",
   "metadata": {},
   "source": [
    "Ans(04)num = int(input(\"Enter any number\"))\n",
    "          \n",
    "if (num<=10):\n",
    "    print(num/3)  \n",
    "else:\n",
    "    print(\"error\")"
   ]
  },
  {
   "cell_type": "raw",
   "id": "2f8a0e10-e951-41eb-81e0-3c732105ca82",
   "metadata": {},
   "source": [
    "Ans (05)##Python while loop is used to run a block code until a certain condition is met. Here,A while loop evaluates the condition.If the condition evaluates to True,the code inside the while loop is executed.\n",
    "\n",
    "num = int(input(\"print any number\"))\n",
    "\n",
    "while num <=10:\n",
    "    print(num)\n",
    "    num +=1\n",
    "          "
   ]
  },
  {
   "cell_type": "raw",
   "id": "cfdb8edd-500d-4a0e-8c70-9d9b59f0713d",
   "metadata": {},
   "source": [
    "Ans (06)i = 1\n",
    "while i <= 4:\n",
    "    j= 0\n",
    "    while j <=3 :\n",
    "        print(i*j, end = \" \")\n",
    "        j +=1\n",
    "    print()  \n",
    "    i +=1"
   ]
  },
  {
   "cell_type": "raw",
   "id": "73e1c399-fbd8-44f1-a2f2-105ee703cad1",
   "metadata": {},
   "source": [
    "Ans (07)num = int(input(\"Enter any number\"))\n",
    "\n",
    "while num <=10 and num >=0 :\n",
    "    print(num)\n",
    "    num = num-1"
   ]
  }
 ],
 "metadata": {
  "kernelspec": {
   "display_name": "Python 3 (ipykernel)",
   "language": "python",
   "name": "python3"
  },
  "language_info": {
   "codemirror_mode": {
    "name": "ipython",
    "version": 3
   },
   "file_extension": ".py",
   "mimetype": "text/x-python",
   "name": "python",
   "nbconvert_exporter": "python",
   "pygments_lexer": "ipython3",
   "version": "3.10.8"
  }
 },
 "nbformat": 4,
 "nbformat_minor": 5
}
